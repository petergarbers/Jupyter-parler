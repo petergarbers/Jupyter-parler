{
 "cells": [
  {
   "cell_type": "code",
   "execution_count": 1,
   "metadata": {},
   "outputs": [],
   "source": [
    "from utils.list_files import list_files\n",
    "from utils.progress import progress_parallel\n",
    "\n",
    "import ujson as json\n",
    "\n",
    "from itertools import islice\n",
    "from collections import Counter\n",
    "from datetime import datetime\n",
    "import os\n",
    "import csv"
   ]
  },
  {
   "cell_type": "code",
   "execution_count": 2,
   "metadata": {},
   "outputs": [
    {
     "data": {
      "text/plain": [
       "['parler-videos-geocoded.json']"
      ]
     },
     "execution_count": 2,
     "metadata": {},
     "output_type": "execute_result"
    }
   ],
   "source": [
    "os.listdir(\"metadata\")"
   ]
  },
  {
   "cell_type": "code",
   "execution_count": 15,
   "metadata": {},
   "outputs": [
    {
     "name": "stdout",
     "output_type": "stream",
     "text": [
      "1 0:00:00 155344.59/s\n"
     ]
    }
   ],
   "source": [
    "def load(fn):\n",
    "    with open(fn) as f:\n",
    "        data = json.load(f)\n",
    "    video_id = os.path.basename(fn).split('.')[0].split('-')[1]\n",
    "    for i in range(len(data)):\n",
    "        data[i]['tag'] = video_id\n",
    "    return data\n",
    "\n",
    "metadata = progress_parallel(load, list_files('metadata'))[0]"
   ]
  },
  {
   "cell_type": "code",
   "execution_count": 16,
   "metadata": {},
   "outputs": [
    {
     "data": {
      "text/plain": [
       "68284"
      ]
     },
     "execution_count": 16,
     "metadata": {},
     "output_type": "execute_result"
    }
   ],
   "source": [
    "import pickle\n",
    "with open('metadata.pkl', 'wb') as f:\n",
    "    pickle.dump(metadata, f)\n",
    "    \n",
    "# with open('metadata.pkl', 'rb') as f:\n",
    "#     metadata = pickle.load(f)\n",
    "\n",
    "len(metadata)"
   ]
  },
  {
   "cell_type": "code",
   "execution_count": 17,
   "metadata": {},
   "outputs": [],
   "source": [
    "def geocoded():\n",
    "    for e in metadata:\n",
    "        try:\n",
    "            lon = float(e['Longitude'])\n",
    "            lat = float(e['Latitude'])\n",
    "            created = datetime.strptime(e['Timestamp'], '%Y-%m-%d %H:%M:%S')\n",
    "            video_id = e['ID']\n",
    "            \n",
    "            yield(lon, lat, created, video_id)\n",
    "    #   \n",
    "        except KeyError:\n",
    "            continue\n",
    "        except ValueError:\n",
    "            continue\n",
    "\n",
    "# collect all geocoded data\n",
    "collected = list(geocoded())"
   ]
  },
  {
   "cell_type": "code",
   "execution_count": 18,
   "metadata": {},
   "outputs": [],
   "source": [
    "# top,left = [38.892110, -77.015188]\n",
    "# bottom,right = [38.887619, -77.005959]\n",
    "\n",
    "# dc area\n",
    "top,left = [38.978921, -77.140698]\n",
    "bottom,right = [38.808277, -76.914339]\n",
    "\n",
    "start = datetime(2021, 1, 5)"
   ]
  },
  {
   "cell_type": "code",
   "execution_count": 19,
   "metadata": {},
   "outputs": [
    {
     "data": {
      "text/plain": [
       "1499"
      ]
     },
     "execution_count": 19,
     "metadata": {},
     "output_type": "execute_result"
    }
   ],
   "source": [
    "to_download = []\n",
    "for lon,lat,created,video_id in collected:\n",
    "    if lon < left or lon > right or lat > top or lat < bottom:\n",
    "        continue\n",
    "    if created < start:\n",
    "        continue\n",
    "    to_download.append(video_id)\n",
    "    \n",
    "len(to_download)"
   ]
  },
  {
   "cell_type": "code",
   "execution_count": 20,
   "metadata": {},
   "outputs": [],
   "source": [
    "with open('dc-area.txt', 'w') as f:\n",
    "    for e in to_download:\n",
    "        f.write(f'https://video.parler.com/{e[:2]}/{e[2:4]}/{e}.mp4\\n')"
   ]
  },
  {
   "cell_type": "code",
   "execution_count": null,
   "metadata": {},
   "outputs": [],
   "source": []
  }
 ],
 "metadata": {
  "kernelspec": {
   "display_name": "Python 3",
   "language": "python",
   "name": "python3"
  },
  "language_info": {
   "codemirror_mode": {
    "name": "ipython",
    "version": 3
   },
   "file_extension": ".py",
   "mimetype": "text/x-python",
   "name": "python",
   "nbconvert_exporter": "python",
   "pygments_lexer": "ipython3",
   "version": "3.8.6"
  }
 },
 "nbformat": 4,
 "nbformat_minor": 4
}
